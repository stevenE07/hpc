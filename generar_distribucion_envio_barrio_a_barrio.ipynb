{
 "cells": [
  {
   "cell_type": "code",
   "execution_count": 7,
   "metadata": {},
   "outputs": [],
   "source": [
    "import json"
   ]
  },
  {
   "cell_type": "code",
   "execution_count": 8,
   "metadata": {},
   "outputs": [],
   "source": [
    "zonas = [\n",
    "[0, 1, 2, 3, 4, 5, 6, 7, 8, 9, 40, 45, 46, 47, 48, 49],\n",
    "[10, 11, 16, 21, 22, 23, 24, 25, 26, 27, 28, 32, 38, 39, 41, 42, 43, 44, 50],\n",
    "[12, 17, 18, 20, 29, 30, 33, 34, 36, 37, 51, 52, 53, 54, 55],\n",
    "[13, 14, 15, 19, 31, 35, 56, 57, 58, 59, 60, 61]\n",
    "]\n",
    "\n",
    "prob = [\n",
    "    [0.40, 0.30, 0.20],\n",
    "    [0.35, 0.30, 0.20],\n",
    "    [0.40, 0.20, 0.20],\n",
    "    [0.10, 0.15, 0.45]\n",
    "]"
   ]
  },
  {
   "cell_type": "code",
   "execution_count": 9,
   "metadata": {},
   "outputs": [],
   "source": [
    "\n",
    "output = []\n",
    "\n",
    "for index_zona_src in range(4):\n",
    "    for index_zona_dst in range(3):\n",
    "        cantidad_barios_destino = len(zonas[index_zona_dst])\n",
    "        prov_destino = prob[index_zona_src][index_zona_dst]\n",
    "\n",
    "        pp = prov_destino / cantidad_barios_destino\n",
    "\n",
    "        for src in zonas[index_zona_src]:\n",
    "            for dst in zonas[index_zona_dst]:\n",
    "                j = {\n",
    "                    \"bi\": src,\n",
    "                    \"bf\": dst,\n",
    "                    \"prob\": pp\n",
    "                }\n",
    "                output.append(j)\n",
    "\n",
    "\n",
    "estructura_general = {\n",
    "    \"probabilidades\": output\n",
    "}\n",
    "\n",
    "with open(\"prob_prob.json\", \"w\", encoding='utf-8') as f:\n",
    "    json.dump(estructura_general, f, ensure_ascii=False,indent=4)\n"
   ]
  }
 ],
 "metadata": {
  "kernelspec": {
   "display_name": "env",
   "language": "python",
   "name": "python3"
  },
  "language_info": {
   "codemirror_mode": {
    "name": "ipython",
    "version": 3
   },
   "file_extension": ".py",
   "mimetype": "text/x-python",
   "name": "python",
   "nbconvert_exporter": "python",
   "pygments_lexer": "ipython3",
   "version": "3.11.6"
  }
 },
 "nbformat": 4,
 "nbformat_minor": 2
}
